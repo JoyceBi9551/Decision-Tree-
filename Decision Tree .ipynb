{
 "cells": [
  {
   "cell_type": "code",
   "execution_count": null,
   "metadata": {},
   "outputs": [],
   "source": [
    "import numpy as np\n",
    "import matplotlib.pyplot as plt\n",
    "import os\n",
    "import seaborn as sns; sns.set()\n",
    "import matplotlib\n",
    "import matplotlib.pyplot as plt\n",
    "%matplotlib inline\n",
    "plt.style.use('ggplot')"
   ]
  },
  {
   "cell_type": "markdown",
   "metadata": {},
   "source": [
    "### An exmaple for createing a decision tree in Sklearn"
   ]
  },
  {
   "cell_type": "code",
   "execution_count": null,
   "metadata": {},
   "outputs": [],
   "source": [
    "from sklearn.datasets import make_blobs\n",
    "\n",
    "X, y = make_blobs(n_samples=300, centers=4,\n",
    "                  random_state=0, cluster_std=1.0)\n",
    "\n",
    "fig = plt.figure(figsize = (12,8))\n",
    "ax = plt.axes()\n",
    "ax.scatter(X[:,0], X[:,1], c=y, cmap='rainbow');"
   ]
  },
  {
   "cell_type": "code",
   "execution_count": null,
   "metadata": {},
   "outputs": [],
   "source": [
    "from sklearn.tree import DecisionTreeClassifier\n",
    "tree_depth2 = DecisionTreeClassifier(max_depth=2).fit(X, y)\n"
   ]
  },
  {
   "cell_type": "code",
   "execution_count": null,
   "metadata": {},
   "outputs": [],
   "source": [
    "tree_depth2.classes_"
   ]
  },
  {
   "cell_type": "code",
   "execution_count": null,
   "metadata": {},
   "outputs": [],
   "source": [
    "tree_depth2.max_depth"
   ]
  },
  {
   "cell_type": "code",
   "execution_count": null,
   "metadata": {},
   "outputs": [],
   "source": [
    "def plot_decision_boundary(clf, X, y, axes=[0, 7.5, 0, 3]):\n",
    "    \n",
    "    x1s = np.linspace(axes[0], axes[1], 100)\n",
    "    x2s = np.linspace(axes[2], axes[3], 100)\n",
    "    x1, x2 = np.meshgrid(x1s, x2s)\n",
    "    X_new = np.c_[x1.ravel(), x2.ravel()]\n",
    "    y_pred = clf.predict(X_new).reshape(x1.shape)\n",
    "    fig = plt.figure(figsize=(12,8))\n",
    "    ax = plt.axes()\n",
    "    ax.contourf(x1, x2, y_pred, alpha=0.3, cmap='rainbow')\n",
    "    unique_y = np.unique(y)\n",
    "    style_list = ['yo', 'ro', 'bs', 'g^', 'k*', 'r>']\n",
    "    for i in range(len(unique_y)):\n",
    "        ax.plot(X[:, 0][y==unique_y[i]], X[:, 1][y==unique_y[i]], style_list[i])\n",
    "   \n",
    "    ax.set_xlabel(r\"$x_1$\", fontsize=18)\n",
    "    ax.set_ylabel(r\"$x_2$\", fontsize=18, rotation=0)\n",
    "    ax.axis(axes)\n",
    "\n",
    "plot_decision_boundary(tree_depth2, X, y,[-5,6,-3,10])\n",
    "plt.title('MAX Depth = 2');"
   ]
  },
  {
   "cell_type": "code",
   "execution_count": null,
   "metadata": {},
   "outputs": [],
   "source": [
    "tree_depth3 = DecisionTreeClassifier(max_depth=3).fit(X, y)\n",
    "plot_decision_boundary(tree_depth3, X, y,[-5,6,-3,10])\n",
    "plt.title('MAX Depth = 3');"
   ]
  },
  {
   "cell_type": "code",
   "execution_count": null,
   "metadata": {},
   "outputs": [],
   "source": [
    "tree_depth4 = DecisionTreeClassifier(max_depth=50).fit(X, y)\n",
    "plot_decision_boundary(tree_depth4, X, y,[-5,6,-3,10])\n",
    "plt.title('MAX Depth = 50');"
   ]
  },
  {
   "cell_type": "markdown",
   "metadata": {},
   "source": [
    "###  Decision tree regression"
   ]
  },
  {
   "cell_type": "code",
   "execution_count": null,
   "metadata": {},
   "outputs": [],
   "source": [
    "from sklearn.tree import DecisionTreeRegressor\n",
    "from sklearn.metrics import mean_squared_error"
   ]
  },
  {
   "cell_type": "markdown",
   "metadata": {},
   "source": [
    "#### If no restriction, decision tree regression will tend to do point-wise prediction"
   ]
  },
  {
   "cell_type": "code",
   "execution_count": null,
   "metadata": {},
   "outputs": [],
   "source": [
    "np.random.seed(42)\n",
    "m = 200\n",
    "X = np.random.rand(m, 1)\n",
    "y = np.exp(0.5*X ** 2) + np.random.randn(m, 1) / 10"
   ]
  },
  {
   "cell_type": "code",
   "execution_count": null,
   "metadata": {},
   "outputs": [],
   "source": [
    " ## un-regularized\n",
    "tree_reg_unregularized = DecisionTreeRegressor(random_state=42)\n",
    "## regularized with min sample leaf rather than depth of the tree\n",
    "tree_reg_min10leaf = DecisionTreeRegressor(random_state=42, min_samples_leaf=10) \n",
    "tree_reg_unregularized.fit(X, y)\n",
    "tree_reg_min10leaf.fit(X, y)\n",
    "\n",
    "x1 = np.linspace(0, 1, 500).reshape(-1, 1)\n",
    "y_pred_ur = tree_reg_unregularized.predict(x1)\n",
    "y_pred_r = tree_reg_min10leaf.predict(x1)\n"
   ]
  },
  {
   "cell_type": "code",
   "execution_count": null,
   "metadata": {},
   "outputs": [],
   "source": [
    "\n",
    "fig = plt.figure(figsize=(12,8))\n",
    "ax = plt.axes()\n",
    "\n",
    "\n",
    "ax.plot(X, y, \"b.\")\n",
    "ax.plot(x1, y_pred_ur, \"r.-\", linewidth=2, label=r\"$\\hat{y}$\")\n",
    "\n",
    "ax.set_xlabel(\"$x_1$\", fontsize=18)\n",
    "ax.set_ylabel(\"$y$\", fontsize=18, rotation=0)\n",
    "ax.legend(loc=\"upper center\", fontsize=18)\n",
    "ax.set_title(\"No restrictions\", fontsize=14)\n"
   ]
  },
  {
   "cell_type": "markdown",
   "metadata": {},
   "source": [
    "#### Regularized decision tree regression shows piecewise prediction"
   ]
  },
  {
   "cell_type": "code",
   "execution_count": null,
   "metadata": {},
   "outputs": [],
   "source": [
    "fig = plt.figure(figsize=(12,8))\n",
    "ax = plt.axes()\n",
    "ax.plot(X, y, \"b.\")\n",
    "ax.plot(x1, y_pred_r, \"r.-\", linewidth=2, label=r\"$\\hat{y}$\")\n",
    "ax.set_ylabel(\"$y$\", fontsize=18, rotation=0)\n",
    "ax.set_xlabel(\"$x_1$\", fontsize=18)\n",
    "ax.set_title(\"min_samples_leaf={}\".format(tree_reg_min10leaf.min_samples_leaf), fontsize=14)\n"
   ]
  },
  {
   "cell_type": "code",
   "execution_count": null,
   "metadata": {},
   "outputs": [],
   "source": [
    "# Quadratic training set + noise\n",
    "np.random.seed(42)\n",
    "m = 200\n",
    "X = np.random.rand(m, 1)\n",
    "y = 4 * (X - 0.5) ** 2\n",
    "y = y + np.random.randn(m, 1) / 10\n",
    "\n",
    "\n",
    "fig = plt.figure(figsize=(14,8))\n",
    "ax = plt.axes()\n",
    "\n",
    "ax.scatter(X,y)"
   ]
  },
  {
   "cell_type": "code",
   "execution_count": null,
   "metadata": {},
   "outputs": [],
   "source": [
    "def plot_regression_predictions(tree_reg, X, y, axes=[0, 1, -0.2, 1], ylabel=\"$y$\"):\n",
    "    x1 = np.linspace(axes[0], axes[1], 500).reshape(-1, 1)\n",
    "    y_pred = tree_reg.predict(x1)\n",
    "    plt.xlabel(\"$x_1$\", fontsize=18)\n",
    "    if ylabel:\n",
    "        plt.ylabel(ylabel, fontsize=18, rotation=0)\n",
    "    plt.plot(X, y, \"b.\")\n",
    "    plt.plot(x1, y_pred, \"g-.\", linewidth=2, label=r\"$\\hat{y}$\")\n",
    "\n",
    "plt.figure(figsize=(30, 25))\n",
    "\n",
    "plt.subplot(221)\n",
    "tree_reg1 = DecisionTreeRegressor(random_state=42, max_depth=2)\n",
    "tree_reg1.fit(X, y)\n",
    "plot_regression_predictions(tree_reg1, X, y)\n",
    "\n",
    "plt.title(\"max_depth=2\", fontsize=14)\n",
    "\n",
    "plt.subplot(222)\n",
    "tree_reg2 = DecisionTreeRegressor(random_state=42, max_depth=3)\n",
    "tree_reg2.fit(X, y)\n",
    "plot_regression_predictions(tree_reg2, X, y, ylabel=None)\n",
    "plt.legend(loc=\"upper center\", fontsize=18)\n",
    "plt.title(\"max_depth=3\", fontsize=14)\n",
    "\n",
    "plt.subplot(223)\n",
    "tree_reg3 = DecisionTreeRegressor(random_state=42, max_depth=4)\n",
    "tree_reg3.fit(X, y)\n",
    "plot_regression_predictions(tree_reg3, X, y, ylabel=None)\n",
    "plt.legend(loc=\"upper center\", fontsize=18)\n",
    "plt.title(\"max_depth=4\", fontsize=14)\n",
    "\n",
    "\n",
    "plt.subplot(224)\n",
    "tree_reg3 = DecisionTreeRegressor(random_state=42, max_depth=5)\n",
    "tree_reg3.fit(X, y)\n",
    "plot_regression_predictions(tree_reg3, X, y, ylabel=None)\n",
    "plt.legend(loc=\"upper center\", fontsize=18)\n",
    "plt.title(\"max_depth=5\", fontsize=14)\n",
    "\n",
    "\n",
    "plt.show()"
   ]
  },
  {
   "cell_type": "code",
   "execution_count": null,
   "metadata": {},
   "outputs": [],
   "source": []
  }
 ],
 "metadata": {
  "kernelspec": {
   "display_name": "Python 3",
   "language": "python",
   "name": "python3"
  },
  "language_info": {
   "codemirror_mode": {
    "name": "ipython",
    "version": 3
   },
   "file_extension": ".py",
   "mimetype": "text/x-python",
   "name": "python",
   "nbconvert_exporter": "python",
   "pygments_lexer": "ipython3",
   "version": "3.8.8"
  }
 },
 "nbformat": 4,
 "nbformat_minor": 4
}
